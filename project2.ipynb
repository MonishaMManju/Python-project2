{
 "cells": [
  {
   "cell_type": "code",
   "execution_count": 1,
   "id": "04ca4715-f059-45aa-b332-1cf7ee83c692",
   "metadata": {},
   "outputs": [],
   "source": [
    "from pymongo import MongoClient"
   ]
  },
  {
   "cell_type": "code",
   "execution_count": 2,
   "id": "687f4d65-0e3f-49ba-9e5d-e884ed9b118f",
   "metadata": {},
   "outputs": [],
   "source": [
    "client = MongoClient('localhost',27017)"
   ]
  },
  {
   "cell_type": "code",
   "execution_count": 3,
   "id": "41a253c7-83ff-47fa-b3b1-024bf18ad896",
   "metadata": {},
   "outputs": [],
   "source": [
    "db=client['Retailshop']"
   ]
  },
  {
   "cell_type": "code",
   "execution_count": 4,
   "id": "5241b0f2-89fa-4f3b-b79a-621fd1723612",
   "metadata": {},
   "outputs": [
    {
     "name": "stdout",
     "output_type": "stream",
     "text": [
      "['Person', 'Persondetails', 'Retailshop', 'admin', 'config', 'local']\n"
     ]
    }
   ],
   "source": [
    "print(client.list_database_names())"
   ]
  },
  {
   "cell_type": "code",
   "execution_count": 5,
   "id": "b5ac4fbd-b196-4941-af0d-b4667583a891",
   "metadata": {},
   "outputs": [],
   "source": [
    "store = db['store']"
   ]
  },
  {
   "cell_type": "code",
   "execution_count": 6,
   "id": "a06e61fa-367e-4b5a-9231-e4fecbe28bab",
   "metadata": {},
   "outputs": [],
   "source": [
    "shampoo = db['shampoo']"
   ]
  },
  {
   "cell_type": "code",
   "execution_count": 7,
   "id": "787743eb-b8e1-4649-b9c1-43dd1276cb45",
   "metadata": {},
   "outputs": [],
   "source": [
    "soap = db['soap']"
   ]
  },
  {
   "cell_type": "code",
   "execution_count": 8,
   "id": "f860c833-08dd-46d7-820e-5006b7ef2fa0",
   "metadata": {},
   "outputs": [],
   "source": [
    "biscuits = db['biscuits']"
   ]
  },
  {
   "cell_type": "code",
   "execution_count": 9,
   "id": "68c3652f-8bbd-4427-9c42-9b5942755b68",
   "metadata": {},
   "outputs": [],
   "source": [
    "chocolates =db['chocolates']"
   ]
  },
  {
   "cell_type": "code",
   "execution_count": 10,
   "id": "951406bd-e58e-4f25-b86e-7227053fb427",
   "metadata": {},
   "outputs": [
    {
     "name": "stdout",
     "output_type": "stream",
     "text": [
      "{'_id': '1', 'Name': 'Shampoo'}\n",
      "{'_id': '2', 'Name': 'Soap'}\n",
      "{'_id': '3', 'Name': 'Toothpaste'}\n",
      "{'_id': '4', 'Name': 'Biscuits'}\n",
      "{'_id': '5', 'Name': 'Chocolates'}\n"
     ]
    }
   ],
   "source": [
    "for data in store.find():\n",
    "    print(data)"
   ]
  },
  {
   "cell_type": "code",
   "execution_count": 11,
   "id": "e7d2b9c9-87eb-4712-803e-39174e0e317d",
   "metadata": {},
   "outputs": [
    {
     "name": "stdout",
     "output_type": "stream",
     "text": [
      "{'_id': ObjectId('619e2e0dec363794bbbc5ad8'), 's_id': '6', 'Soapname': 'Mysoresandal', 'Edate': '12/2022', 'price': '70', 'soap_id': '2'}\n",
      "{'_id': ObjectId('619e2e74ec363794bbbc5ad9'), 's_id': '7', 'Soapname': 'Lux', 'Edate': '11/2022', 'price': '45', 'soap_id': '2'}\n",
      "{'_id': ObjectId('619e2ea8ec363794bbbc5ada'), 's_id': '8', 'Soapname': 'Lifebuoy', 'Edate': '01/2023', 'price': '85', 'soap_id': '2'}\n",
      "{'_id': ObjectId('619e2edfec363794bbbc5adb'), 's_id': '9', 'Soapname': 'Santoor', 'Edate': '01/2022', 'price': '55', 'soap_id': '2'}\n",
      "{'_id': ObjectId('619e2f16ec363794bbbc5adc'), 's_id': '10', 'Soapname': 'Liril', 'Edate': '02/2022', 'price': '55', 'soap_id': '2'}\n",
      "{'_id': ObjectId('619e2f92ec363794bbbc5add'), 's_id': '11', 'Soapname': 'Dove', 'Edate': '05/2022', 'price': '65', 'soap_id': '2'}\n",
      "{'_id': ObjectId('619e3003ec363794bbbc5ade'), 's_id': '12', 'Soapname': 'vivel', 'Edate': '07/2022', 'price': '56', 'soap_id': '2'}\n",
      "{'_id': ObjectId('619e3037ec363794bbbc5adf'), 's_id': '13', 'Soapname': 'Hamam', 'Edate': '07/2022', 'price': '56', 'soap_id': '2'}\n",
      "{'_id': ObjectId('619e3070ec363794bbbc5ae0'), 's_id': '14', 'Soapname': 'Himalaya', 'Edate': '07/2023', 'price': '36', 'soap_id': '2'}\n",
      "{'_id': ObjectId('619e30c5ec363794bbbc5ae1'), 's_id': '15', 'Soapname': 'Biotique', 'Edate': '08/2023', 'price': '86', 'soap_id': '2'}\n"
     ]
    }
   ],
   "source": [
    "for data in soap.find():\n",
    "    print(data)"
   ]
  },
  {
   "cell_type": "code",
   "execution_count": 12,
   "id": "a1a84cdc-a18f-4153-b20b-fe92ddb03692",
   "metadata": {},
   "outputs": [
    {
     "name": "stdout",
     "output_type": "stream",
     "text": [
      "{'_id': ObjectId('619e36e3ec363794bbbc5ae2'), 'sh_id': '1', 'shampooname': 'Himalaya', 'Edate': '07/2021', 'price': '46'}\n",
      "{'_id': ObjectId('619e370eec363794bbbc5ae3'), 'sh_id': '2', 'shampooname': 'Clinicplus', 'Edate': '07/2021', 'price': '30'}\n",
      "{'_id': ObjectId('619e3733ec363794bbbc5ae4'), 'sh_id': '3', 'shampooname': 'Chik', 'Edate': '12/2021', 'price': '50'}\n",
      "{'_id': ObjectId('619e374eec363794bbbc5ae5'), 'sh_id': '4', 'shampooname': 'Dove', 'Edate': '12/2022', 'price': '110'}\n",
      "{'_id': ObjectId('619e3780ec363794bbbc5ae6'), 'sh_id': '5', 'shampooname': 'Tressme', 'Edate': '02/2022', 'price': '100'}\n"
     ]
    }
   ],
   "source": [
    "for data in shampoo.find():\n",
    "    print(data)"
   ]
  },
  {
   "cell_type": "code",
   "execution_count": 13,
   "id": "cd2943d3-1c81-4fbf-a81a-7171a6c9700d",
   "metadata": {},
   "outputs": [
    {
     "name": "stdout",
     "output_type": "stream",
     "text": [
      "{'_id': ObjectId('619e382eec363794bbbc5ae7'), 'b_id': '1', 'bname': 'goodday', 'Edate': '02/2022', 'price': '90'}\n",
      "{'_id': ObjectId('619e3863ec363794bbbc5ae8'), 'b_id': '2', 'bname': 'parleG', 'Edate': '06/2022', 'price': '20'}\n",
      "{'_id': ObjectId('619e388aec363794bbbc5ae9'), 'b_id': '3', 'bname': 'Hide&seek', 'Edate': '06/2021', 'price': '50'}\n",
      "{'_id': ObjectId('619e38b2ec363794bbbc5aea'), 'b_id': '4', 'bname': 'Bourbon', 'Edate': '22/2022', 'price': '55'}\n",
      "{'_id': ObjectId('619e38f3ec363794bbbc5aeb'), 'b_id': '5', 'bname': 'Sunfeast', 'Edate': '04/2022', 'price': '75'}\n"
     ]
    }
   ],
   "source": [
    "for data in biscuits.find():\n",
    "    print(data)"
   ]
  },
  {
   "cell_type": "code",
   "execution_count": 14,
   "id": "62973d99-61e0-45c6-8ef7-4f0d811a20d6",
   "metadata": {},
   "outputs": [
    {
     "name": "stdout",
     "output_type": "stream",
     "text": [
      "{'_id': ObjectId('619e393aec363794bbbc5aec'), 'c_id': '1', 'cname': 'Dairymilk', 'Edate': '04/2022', 'price': '75'}\n",
      "{'_id': ObjectId('619e3962ec363794bbbc5aed'), 'c_id': '2', 'cname': 'Kitkat', 'Edate': '05/2022', 'price': '55'}\n",
      "{'_id': ObjectId('619e398fec363794bbbc5aee'), 'c_id': '3', 'cname': 'Milkybar', 'Edate': '11/2022', 'price': '65'}\n"
     ]
    }
   ],
   "source": [
    "for data in chocolates.find():\n",
    "    print(data)"
   ]
  },
  {
   "cell_type": "code",
   "execution_count": 15,
   "id": "0f76f335-8b81-4550-9483-a8e7ff0e75a1",
   "metadata": {},
   "outputs": [],
   "source": [
    "#shampoo.update_one({\"sh_id\":\"5\"},{\"$set\":{\"price\":\"100\"}})"
   ]
  },
  {
   "cell_type": "code",
   "execution_count": 16,
   "id": "663e5159-5e4d-4fbe-95f2-a5de0d076518",
   "metadata": {},
   "outputs": [
    {
     "name": "stdout",
     "output_type": "stream",
     "text": [
      "{'_id': ObjectId('619e36e3ec363794bbbc5ae2'), 'sh_id': '1', 'shampooname': 'Himalaya', 'Edate': '07/2021', 'price': '46'}\n",
      "{'_id': ObjectId('619e370eec363794bbbc5ae3'), 'sh_id': '2', 'shampooname': 'Clinicplus', 'Edate': '07/2021', 'price': '30'}\n",
      "{'_id': ObjectId('619e3733ec363794bbbc5ae4'), 'sh_id': '3', 'shampooname': 'Chik', 'Edate': '12/2021', 'price': '50'}\n",
      "{'_id': ObjectId('619e374eec363794bbbc5ae5'), 'sh_id': '4', 'shampooname': 'Dove', 'Edate': '12/2022', 'price': '110'}\n",
      "{'_id': ObjectId('619e3780ec363794bbbc5ae6'), 'sh_id': '5', 'shampooname': 'Tressme', 'Edate': '02/2022', 'price': '100'}\n"
     ]
    }
   ],
   "source": [
    "for data in shampoo.find():\n",
    "    print(data)"
   ]
  },
  {
   "cell_type": "code",
   "execution_count": 17,
   "id": "0c02e6df-4254-488d-809f-c8eda571dd50",
   "metadata": {},
   "outputs": [
    {
     "name": "stdout",
     "output_type": "stream",
     "text": [
      "{'_id': ObjectId('619e393aec363794bbbc5aec'), 'c_id': '1', 'cname': 'Dairymilk', 'Edate': '04/2022', 'price': '75'}\n",
      "{'_id': ObjectId('619e3962ec363794bbbc5aed'), 'c_id': '2', 'cname': 'Kitkat', 'Edate': '05/2022', 'price': '55'}\n",
      "{'_id': ObjectId('619e398fec363794bbbc5aee'), 'c_id': '3', 'cname': 'Milkybar', 'Edate': '11/2022', 'price': '65'}\n"
     ]
    }
   ],
   "source": [
    "for data in chocolates.find():\n",
    "    print(data)"
   ]
  },
  {
   "cell_type": "code",
   "execution_count": null,
   "id": "0e7d086b-bf04-472a-ba03-e2c4f401a747",
   "metadata": {},
   "outputs": [],
   "source": []
  },
  {
   "cell_type": "code",
   "execution_count": null,
   "id": "76b5facb-ff3b-41a1-b5e8-2ad07fbcba6d",
   "metadata": {},
   "outputs": [],
   "source": []
  }
 ],
 "metadata": {
  "kernelspec": {
   "display_name": "Python 3 (ipykernel)",
   "language": "python",
   "name": "python3"
  },
  "language_info": {
   "codemirror_mode": {
    "name": "ipython",
    "version": 3
   },
   "file_extension": ".py",
   "mimetype": "text/x-python",
   "name": "python",
   "nbconvert_exporter": "python",
   "pygments_lexer": "ipython3",
   "version": "3.8.10"
  }
 },
 "nbformat": 4,
 "nbformat_minor": 5
}
