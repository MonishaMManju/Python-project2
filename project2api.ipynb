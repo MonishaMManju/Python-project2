{
 "cells": [
  {
   "cell_type": "code",
   "execution_count": null,
   "id": "4b36f33c-3d32-46a6-81ba-e003d773fa94",
   "metadata": {},
   "outputs": [
    {
     "name": "stderr",
     "output_type": "stream",
     "text": [
      " * Running on http://localhost:9000/ (Press CTRL+C to quit)\n",
      "127.0.0.1 - - [25/Nov/2021 14:23:21] \"GET / HTTP/1.1\" 404 -\n",
      "127.0.0.1 - - [25/Nov/2021 14:23:26] \"GET /soap HTTP/1.1\" 200 -\n"
     ]
    }
   ],
   "source": [
    "from werkzeug.wrappers import Request,Response\n",
    "from flask import Flask,jsonify,request\n",
    "from bson.json_util import dumps\n",
    "from retail import allproducts,allsoap,allshampoo,allbiscuits,allchocolates\n",
    "from pymongo import MongoClient\n",
    "client = MongoClient('localhost',27017)\n",
    "\n",
    "db=client['Retailshop']\n",
    "shampoo = db['shampoo']\n",
    "soap = db['soap']\n",
    "biscuits = db['biscuits']\n",
    "chocolates =db['chocolates']\n",
    "     \n",
    "app=Flask(__name__)\n",
    "@app.route('/retail',methods=['GET', 'POST'])\n",
    "def home():\n",
    "    if(request.method == 'GET'):\n",
    "        data=\"HELLO! WELCOME TO SHOP\"\n",
    "        return jsonify({'data':data})\n",
    "@app.route('/store',methods=['GET', 'POST'])\n",
    "def f1():\n",
    "     if(request.method == 'GET'):\n",
    "            return allproducts()\n",
    "        \n",
    "@app.route('/soap',methods=['GET', 'POST'])\n",
    "def f2():\n",
    "     if(request.method == 'GET'):\n",
    "            return allsoap()\n",
    "        \n",
    "@app.route('/shampoo',methods=['GET', 'POST'])\n",
    "def f3():\n",
    "     if(request.method == 'GET'):\n",
    "            return allshampoo()\n",
    "        \n",
    "@app.route('/biscuits',methods=['GET', 'POST'])\n",
    "def f4():\n",
    "     if(request.method == 'GET'):\n",
    "            return allbiscuits()\n",
    "        \n",
    "@app.route('/chocolates',methods=['GET', 'POST'])\n",
    "def f5():\n",
    "     if(request.method == 'GET'):\n",
    "            return allchocolates()\n",
    "        \n",
    "if __name__ =='__main__':\n",
    "    from werkzeug.serving import run_simple\n",
    "    run_simple('localhost',9000,app)\n",
    "    "
   ]
  },
  {
   "cell_type": "code",
   "execution_count": null,
   "id": "f04891f5-6321-4efb-85ca-f638d02f0714",
   "metadata": {},
   "outputs": [],
   "source": []
  },
  {
   "cell_type": "code",
   "execution_count": null,
   "id": "edd63e14-671a-4ec6-b7fa-e64d9509b2c0",
   "metadata": {},
   "outputs": [],
   "source": []
  },
  {
   "cell_type": "code",
   "execution_count": null,
   "id": "b404002e-e0e3-4fa3-af8c-cbb97d5e8f2b",
   "metadata": {},
   "outputs": [],
   "source": []
  }
 ],
 "metadata": {
  "kernelspec": {
   "display_name": "Python 3 (ipykernel)",
   "language": "python",
   "name": "python3"
  },
  "language_info": {
   "codemirror_mode": {
    "name": "ipython",
    "version": 3
   },
   "file_extension": ".py",
   "mimetype": "text/x-python",
   "name": "python",
   "nbconvert_exporter": "python",
   "pygments_lexer": "ipython3",
   "version": "3.8.10"
  }
 },
 "nbformat": 4,
 "nbformat_minor": 5
}
